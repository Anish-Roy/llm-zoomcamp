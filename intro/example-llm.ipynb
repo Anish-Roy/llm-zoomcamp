{
 "cells": [
  {
   "cell_type": "code",
   "execution_count": 1,
   "id": "1307e636-5ccc-496c-8231-adcad35ed4d5",
   "metadata": {},
   "outputs": [],
   "source": [
    "import os\n",
    "from together import Together"
   ]
  },
  {
   "cell_type": "code",
   "execution_count": 2,
   "id": "cbc3c15f-629d-403f-846e-4961634b4497",
   "metadata": {},
   "outputs": [],
   "source": [
    "client = Together(api_key=os.environ.get(\"TOGETHER_API_KEY\"))"
   ]
  },
  {
   "cell_type": "code",
   "execution_count": 4,
   "id": "cc6b1e05-e895-45d6-b187-767a83317743",
   "metadata": {},
   "outputs": [],
   "source": [
    "response = client.chat.completions.create(\n",
    "    model=\"meta-llama/Llama-3-8b-chat-hf\",\n",
    "    messages=[{'role': 'user', \"content\": \"tell me about llm-zoomcamp\"}],\n",
    ")"
   ]
  },
  {
   "cell_type": "code",
   "execution_count": 5,
   "id": "5b532ce1-08f6-4e7d-9572-f54b25d30ff7",
   "metadata": {},
   "outputs": [
    {
     "name": "stdout",
     "output_type": "stream",
     "text": [
      "LLM-ZoomCamp!\n",
      "\n",
      "LLM-ZoomCamp is a popular online event that brings together language model enthusiasts, researchers, and developers to learn about the latest advancements in Large Language Models (LLMs) and their applications. The event is organized by the ZoomCamp team, a group of experts in the field of natural language processing and machine learning.\n",
      "\n",
      "Here's what you can expect from LLM-ZoomCamp:\n",
      "\n",
      "**Agenda:** The event typically features a packed agenda with talks, workshops, and Q&A sessions. The topics covered range from the basics of LLMs to more advanced topics like fine-tuning, transfer learning, and multimodal learning. You can expect to learn about the latest research and applications in areas such as:\n",
      "\n",
      "1. Natural Language Processing (NLP)\n",
      "2. Machine Learning (ML)\n",
      "3. Computer Vision (CV)\n",
      "4. Multimodal Learning\n",
      "5. Conversational AI\n",
      "6. Text Generation\n",
      "7. Sentiment Analysis\n",
      "8. Named Entity Recognition (NER)\n",
      "9. Language Translation\n",
      "\n",
      "**Speakers:** The event features a diverse lineup of speakers, including renowned researchers, industry experts, and thought leaders in the field of LLMs. You'll have the opportunity to learn from the best and get insights into the latest developments and trends.\n",
      "\n",
      "**Format:** The event is typically held online, with live sessions and recordings available for later viewing. This allows attendees to participate from anywhere in the world and at their own convenience.\n",
      "\n",
      "**Target Audience:** LLM-ZoomCamp is designed for anyone interested in LLMs, including:\n",
      "\n",
      "1. Researchers and academics\n",
      "2. Developers and engineers\n",
      "3. Data scientists and analysts\n",
      "4. Business leaders and entrepreneurs\n",
      "5. Students and enthusiasts\n",
      "\n",
      "**Benefits:** By attending LLM-ZoomCamp, you can:\n",
      "\n",
      "1. Stay up-to-date with the latest advancements in LLMs\n",
      "2. Learn from experts in the field\n",
      "3. Network with like-minded individuals\n",
      "4. Gain insights into real-world applications and use cases\n",
      "5. Get inspired by innovative ideas and projects\n",
      "\n",
      "**Past Events:** LLM-ZoomCamp has been held several times in the past, with each event featuring a unique set of speakers, topics, and activities. You can find recordings and resources from past events on the ZoomCamp website.\n",
      "\n",
      "**Upcoming Events:** Keep an eye on the ZoomCamp website for announcements about upcoming events, including dates, speakers, and topics.\n",
      "\n",
      "Overall, LLM-ZoomCamp is an excellent opportunity to learn about the latest developments in LLMs and connect with a community of like-minded individuals.\n"
     ]
    }
   ],
   "source": [
    "print(response.choices[0].message.content)"
   ]
  },
  {
   "cell_type": "code",
   "execution_count": null,
   "id": "26f9a7e3-3e6b-456b-8d1e-630bdec8ceae",
   "metadata": {},
   "outputs": [],
   "source": []
  }
 ],
 "metadata": {
  "kernelspec": {
   "display_name": "Python 3 (ipykernel)",
   "language": "python",
   "name": "python3"
  },
  "language_info": {
   "codemirror_mode": {
    "name": "ipython",
    "version": 3
   },
   "file_extension": ".py",
   "mimetype": "text/x-python",
   "name": "python",
   "nbconvert_exporter": "python",
   "pygments_lexer": "ipython3",
   "version": "3.12.3"
  }
 },
 "nbformat": 4,
 "nbformat_minor": 5
}
